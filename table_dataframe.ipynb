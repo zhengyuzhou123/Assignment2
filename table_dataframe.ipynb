{
 "cells": [
  {
   "cell_type": "code",
   "execution_count": 109,
   "id": "e5005070",
   "metadata": {},
   "outputs": [
    {
     "name": "stderr",
     "output_type": "stream",
     "text": [
      "                                                                                \r"
     ]
    },
    {
     "name": "stdout",
     "output_type": "stream",
     "text": [
      "---This is Diagnostic check, No need to print it in the final doc---\n",
      "root\n",
      " |-- ID: string (nullable = true)\n",
      " |-- LAST_UPDATED_DATE: string (nullable = true)\n",
      " |-- LAST_UPDATED_TIMESTAMP: timestamp (nullable = true)\n",
      " |-- DUPLICATES: integer (nullable = true)\n",
      " |-- POSTED: string (nullable = true)\n",
      " |-- EXPIRED: string (nullable = true)\n",
      " |-- DURATION: integer (nullable = true)\n",
      " |-- SOURCE_TYPES: string (nullable = true)\n",
      " |-- SOURCES: string (nullable = true)\n",
      " |-- URL: string (nullable = true)\n",
      " |-- ACTIVE_URLS: string (nullable = true)\n",
      " |-- ACTIVE_SOURCES_INFO: string (nullable = true)\n",
      " |-- TITLE_RAW: string (nullable = true)\n",
      " |-- BODY: string (nullable = true)\n",
      " |-- MODELED_EXPIRED: string (nullable = true)\n",
      " |-- MODELED_DURATION: integer (nullable = true)\n",
      " |-- COMPANY: integer (nullable = true)\n",
      " |-- COMPANY_NAME: string (nullable = true)\n",
      " |-- COMPANY_RAW: string (nullable = true)\n",
      " |-- COMPANY_IS_STAFFING: boolean (nullable = true)\n",
      " |-- EDUCATION_LEVELS: string (nullable = true)\n",
      " |-- EDUCATION_LEVELS_NAME: string (nullable = true)\n",
      " |-- MIN_EDULEVELS: integer (nullable = true)\n",
      " |-- MIN_EDULEVELS_NAME: string (nullable = true)\n",
      " |-- MAX_EDULEVELS: integer (nullable = true)\n",
      " |-- MAX_EDULEVELS_NAME: string (nullable = true)\n",
      " |-- EMPLOYMENT_TYPE: integer (nullable = true)\n",
      " |-- EMPLOYMENT_TYPE_NAME: string (nullable = true)\n",
      " |-- MIN_YEARS_EXPERIENCE: integer (nullable = true)\n",
      " |-- MAX_YEARS_EXPERIENCE: integer (nullable = true)\n",
      " |-- IS_INTERNSHIP: boolean (nullable = true)\n",
      " |-- SALARY: integer (nullable = true)\n",
      " |-- REMOTE_TYPE: integer (nullable = true)\n",
      " |-- REMOTE_TYPE_NAME: string (nullable = true)\n",
      " |-- ORIGINAL_PAY_PERIOD: string (nullable = true)\n",
      " |-- SALARY_TO: integer (nullable = true)\n",
      " |-- SALARY_FROM: integer (nullable = true)\n",
      " |-- LOCATION: string (nullable = true)\n",
      " |-- CITY: string (nullable = true)\n",
      " |-- CITY_NAME: string (nullable = true)\n",
      " |-- COUNTY: integer (nullable = true)\n",
      " |-- COUNTY_NAME: string (nullable = true)\n",
      " |-- MSA: integer (nullable = true)\n",
      " |-- MSA_NAME: string (nullable = true)\n",
      " |-- STATE: integer (nullable = true)\n",
      " |-- STATE_NAME: string (nullable = true)\n",
      " |-- COUNTY_OUTGOING: integer (nullable = true)\n",
      " |-- COUNTY_NAME_OUTGOING: string (nullable = true)\n",
      " |-- COUNTY_INCOMING: integer (nullable = true)\n",
      " |-- COUNTY_NAME_INCOMING: string (nullable = true)\n",
      " |-- MSA_OUTGOING: integer (nullable = true)\n",
      " |-- MSA_NAME_OUTGOING: string (nullable = true)\n",
      " |-- MSA_INCOMING: integer (nullable = true)\n",
      " |-- MSA_NAME_INCOMING: string (nullable = true)\n",
      " |-- NAICS2: integer (nullable = true)\n",
      " |-- NAICS2_NAME: string (nullable = true)\n",
      " |-- NAICS3: integer (nullable = true)\n",
      " |-- NAICS3_NAME: string (nullable = true)\n",
      " |-- NAICS4: integer (nullable = true)\n",
      " |-- NAICS4_NAME: string (nullable = true)\n",
      " |-- NAICS5: integer (nullable = true)\n",
      " |-- NAICS5_NAME: string (nullable = true)\n",
      " |-- NAICS6: integer (nullable = true)\n",
      " |-- NAICS6_NAME: string (nullable = true)\n",
      " |-- TITLE: string (nullable = true)\n",
      " |-- TITLE_NAME: string (nullable = true)\n",
      " |-- TITLE_CLEAN: string (nullable = true)\n",
      " |-- SKILLS: string (nullable = true)\n",
      " |-- SKILLS_NAME: string (nullable = true)\n",
      " |-- SPECIALIZED_SKILLS: string (nullable = true)\n",
      " |-- SPECIALIZED_SKILLS_NAME: string (nullable = true)\n",
      " |-- CERTIFICATIONS: string (nullable = true)\n",
      " |-- CERTIFICATIONS_NAME: string (nullable = true)\n",
      " |-- COMMON_SKILLS: string (nullable = true)\n",
      " |-- COMMON_SKILLS_NAME: string (nullable = true)\n",
      " |-- SOFTWARE_SKILLS: string (nullable = true)\n",
      " |-- SOFTWARE_SKILLS_NAME: string (nullable = true)\n",
      " |-- ONET: string (nullable = true)\n",
      " |-- ONET_NAME: string (nullable = true)\n",
      " |-- ONET_2019: string (nullable = true)\n",
      " |-- ONET_2019_NAME: string (nullable = true)\n",
      " |-- CIP6: string (nullable = true)\n",
      " |-- CIP6_NAME: string (nullable = true)\n",
      " |-- CIP4: string (nullable = true)\n",
      " |-- CIP4_NAME: string (nullable = true)\n",
      " |-- CIP2: string (nullable = true)\n",
      " |-- CIP2_NAME: string (nullable = true)\n",
      " |-- SOC_2021_2: string (nullable = true)\n",
      " |-- SOC_2021_2_NAME: string (nullable = true)\n",
      " |-- SOC_2021_3: string (nullable = true)\n",
      " |-- SOC_2021_3_NAME: string (nullable = true)\n",
      " |-- SOC_2021_4: string (nullable = true)\n",
      " |-- SOC_2021_4_NAME: string (nullable = true)\n",
      " |-- SOC_2021_5: string (nullable = true)\n",
      " |-- SOC_2021_5_NAME: string (nullable = true)\n",
      " |-- LOT_CAREER_AREA: integer (nullable = true)\n",
      " |-- LOT_CAREER_AREA_NAME: string (nullable = true)\n",
      " |-- LOT_OCCUPATION: integer (nullable = true)\n",
      " |-- LOT_OCCUPATION_NAME: string (nullable = true)\n",
      " |-- LOT_SPECIALIZED_OCCUPATION: integer (nullable = true)\n",
      " |-- LOT_SPECIALIZED_OCCUPATION_NAME: string (nullable = true)\n",
      " |-- LOT_OCCUPATION_GROUP: integer (nullable = true)\n",
      " |-- LOT_OCCUPATION_GROUP_NAME: string (nullable = true)\n",
      " |-- LOT_V6_SPECIALIZED_OCCUPATION: integer (nullable = true)\n",
      " |-- LOT_V6_SPECIALIZED_OCCUPATION_NAME: string (nullable = true)\n",
      " |-- LOT_V6_OCCUPATION: integer (nullable = true)\n",
      " |-- LOT_V6_OCCUPATION_NAME: string (nullable = true)\n",
      " |-- LOT_V6_OCCUPATION_GROUP: integer (nullable = true)\n",
      " |-- LOT_V6_OCCUPATION_GROUP_NAME: string (nullable = true)\n",
      " |-- LOT_V6_CAREER_AREA: integer (nullable = true)\n",
      " |-- LOT_V6_CAREER_AREA_NAME: string (nullable = true)\n",
      " |-- SOC_2: string (nullable = true)\n",
      " |-- SOC_2_NAME: string (nullable = true)\n",
      " |-- SOC_3: string (nullable = true)\n",
      " |-- SOC_3_NAME: string (nullable = true)\n",
      " |-- SOC_4: string (nullable = true)\n",
      " |-- SOC_4_NAME: string (nullable = true)\n",
      " |-- SOC_5: string (nullable = true)\n",
      " |-- SOC_5_NAME: string (nullable = true)\n",
      " |-- LIGHTCAST_SECTORS: string (nullable = true)\n",
      " |-- LIGHTCAST_SECTORS_NAME: string (nullable = true)\n",
      " |-- NAICS_2022_2: integer (nullable = true)\n",
      " |-- NAICS_2022_2_NAME: string (nullable = true)\n",
      " |-- NAICS_2022_3: integer (nullable = true)\n",
      " |-- NAICS_2022_3_NAME: string (nullable = true)\n",
      " |-- NAICS_2022_4: integer (nullable = true)\n",
      " |-- NAICS_2022_4_NAME: string (nullable = true)\n",
      " |-- NAICS_2022_5: integer (nullable = true)\n",
      " |-- NAICS_2022_5_NAME: string (nullable = true)\n",
      " |-- NAICS_2022_6: integer (nullable = true)\n",
      " |-- NAICS_2022_6_NAME: string (nullable = true)\n",
      "\n",
      "+--------------------+-----------------+----------------------+----------+--------+---------+--------+--------------------+--------------------+--------------------+-----------+-------------------+--------------------+--------------------+---------------+----------------+--------+--------------------+-----------+-------------------+----------------+---------------------+-------------+-------------------+-------------+------------------+---------------+--------------------+--------------------+--------------------+-------------+------+-----------+----------------+-------------------+---------+-----------+--------------------+--------------------+-------------+------+--------------+-----+--------------------+-----+----------+---------------+--------------------+---------------+--------------------+------------+--------------------+------------+--------------------+------+--------------------+------+--------------------+------+--------------------+------+--------------------+------+--------------------+------------------+-------------------+--------------------+--------------------+--------------------+--------------------+-----------------------+--------------------+--------------------+--------------------+--------------------+--------------------+--------------------+----------+--------------------+----------+--------------------+--------------------+--------------------+--------------------+--------------------+--------------------+--------------------+----------+--------------------+----------+--------------------+----------+---------------+----------+---------------+---------------+--------------------+--------------+--------------------+--------------------------+-------------------------------+--------------------+-------------------------+-----------------------------+----------------------------------+-----------------+----------------------+-----------------------+----------------------------+------------------+-----------------------+-------+--------------------+-------+--------------------+-------+---------------+-------+---------------+-----------------+----------------------+------------+--------------------+------------+--------------------+------------+--------------------+------------+--------------------+------------+--------------------+\n",
      "|                  ID|LAST_UPDATED_DATE|LAST_UPDATED_TIMESTAMP|DUPLICATES|  POSTED|  EXPIRED|DURATION|        SOURCE_TYPES|             SOURCES|                 URL|ACTIVE_URLS|ACTIVE_SOURCES_INFO|           TITLE_RAW|                BODY|MODELED_EXPIRED|MODELED_DURATION| COMPANY|        COMPANY_NAME|COMPANY_RAW|COMPANY_IS_STAFFING|EDUCATION_LEVELS|EDUCATION_LEVELS_NAME|MIN_EDULEVELS| MIN_EDULEVELS_NAME|MAX_EDULEVELS|MAX_EDULEVELS_NAME|EMPLOYMENT_TYPE|EMPLOYMENT_TYPE_NAME|MIN_YEARS_EXPERIENCE|MAX_YEARS_EXPERIENCE|IS_INTERNSHIP|SALARY|REMOTE_TYPE|REMOTE_TYPE_NAME|ORIGINAL_PAY_PERIOD|SALARY_TO|SALARY_FROM|            LOCATION|                CITY|    CITY_NAME|COUNTY|   COUNTY_NAME|  MSA|            MSA_NAME|STATE|STATE_NAME|COUNTY_OUTGOING|COUNTY_NAME_OUTGOING|COUNTY_INCOMING|COUNTY_NAME_INCOMING|MSA_OUTGOING|   MSA_NAME_OUTGOING|MSA_INCOMING|   MSA_NAME_INCOMING|NAICS2|         NAICS2_NAME|NAICS3|         NAICS3_NAME|NAICS4|         NAICS4_NAME|NAICS5|         NAICS5_NAME|NAICS6|         NAICS6_NAME|             TITLE|         TITLE_NAME|         TITLE_CLEAN|              SKILLS|         SKILLS_NAME|  SPECIALIZED_SKILLS|SPECIALIZED_SKILLS_NAME|      CERTIFICATIONS| CERTIFICATIONS_NAME|       COMMON_SKILLS|  COMMON_SKILLS_NAME|     SOFTWARE_SKILLS|SOFTWARE_SKILLS_NAME|      ONET|           ONET_NAME| ONET_2019|      ONET_2019_NAME|                CIP6|           CIP6_NAME|                CIP4|           CIP4_NAME|                CIP2|           CIP2_NAME|SOC_2021_2|     SOC_2021_2_NAME|SOC_2021_3|     SOC_2021_3_NAME|SOC_2021_4|SOC_2021_4_NAME|SOC_2021_5|SOC_2021_5_NAME|LOT_CAREER_AREA|LOT_CAREER_AREA_NAME|LOT_OCCUPATION| LOT_OCCUPATION_NAME|LOT_SPECIALIZED_OCCUPATION|LOT_SPECIALIZED_OCCUPATION_NAME|LOT_OCCUPATION_GROUP|LOT_OCCUPATION_GROUP_NAME|LOT_V6_SPECIALIZED_OCCUPATION|LOT_V6_SPECIALIZED_OCCUPATION_NAME|LOT_V6_OCCUPATION|LOT_V6_OCCUPATION_NAME|LOT_V6_OCCUPATION_GROUP|LOT_V6_OCCUPATION_GROUP_NAME|LOT_V6_CAREER_AREA|LOT_V6_CAREER_AREA_NAME|  SOC_2|          SOC_2_NAME|  SOC_3|          SOC_3_NAME|  SOC_4|     SOC_4_NAME|  SOC_5|     SOC_5_NAME|LIGHTCAST_SECTORS|LIGHTCAST_SECTORS_NAME|NAICS_2022_2|   NAICS_2022_2_NAME|NAICS_2022_3|   NAICS_2022_3_NAME|NAICS_2022_4|   NAICS_2022_4_NAME|NAICS_2022_5|   NAICS_2022_5_NAME|NAICS_2022_6|   NAICS_2022_6_NAME|\n",
      "+--------------------+-----------------+----------------------+----------+--------+---------+--------+--------------------+--------------------+--------------------+-----------+-------------------+--------------------+--------------------+---------------+----------------+--------+--------------------+-----------+-------------------+----------------+---------------------+-------------+-------------------+-------------+------------------+---------------+--------------------+--------------------+--------------------+-------------+------+-----------+----------------+-------------------+---------+-----------+--------------------+--------------------+-------------+------+--------------+-----+--------------------+-----+----------+---------------+--------------------+---------------+--------------------+------------+--------------------+------------+--------------------+------+--------------------+------+--------------------+------+--------------------+------+--------------------+------+--------------------+------------------+-------------------+--------------------+--------------------+--------------------+--------------------+-----------------------+--------------------+--------------------+--------------------+--------------------+--------------------+--------------------+----------+--------------------+----------+--------------------+--------------------+--------------------+--------------------+--------------------+--------------------+--------------------+----------+--------------------+----------+--------------------+----------+---------------+----------+---------------+---------------+--------------------+--------------+--------------------+--------------------------+-------------------------------+--------------------+-------------------------+-----------------------------+----------------------------------+-----------------+----------------------+-----------------------+----------------------------+------------------+-----------------------+-------+--------------------+-------+--------------------+-------+---------------+-------+---------------+-----------------+----------------------+------------+--------------------+------------+--------------------+------------+--------------------+------------+--------------------+------------+--------------------+\n",
      "|1f57d95acf4dc67ed...|         9/6/2024|  2024-09-06 20:32:...|         0|6/2/2024| 6/8/2024|       6|   [\\n  \"Company\"\\n]|[\\n  \"brassring.c...|[\\n  \"https://sjo...|         []|               NULL|Enterprise Analys...|31-May-2024\\n\\nEn...|       6/8/2024|               6|  894731|          Murphy USA| Murphy USA|              false|       [\\n  2\\n]| [\\n  \"Bachelor's ...|            2|  Bachelor's degree|         NULL|              NULL|              1|Full-time (> 32 h...|                   2|                   2|        false|  NULL|          0|          [None]|               NULL|     NULL|       NULL|{\\n  \"lat\": 33.20...|RWwgRG9yYWRvLCBBUg==|El Dorado, AR|  5139|     Union, AR|20980|       El Dorado, AR|    5|  Arkansas|           5139|           Union, AR|           5139|           Union, AR|       20980|       El Dorado, AR|       20980|       El Dorado, AR|    44|        Retail Trade|   441|Motor Vehicle and...|  4413|Automotive Parts,...| 44133|Automotive Parts ...|441330|Automotive Parts ...|ET29C073C03D1F86B4|Enterprise Analysts|enterprise analys...|[\\n  \"KS126DB6T06...|[\\n  \"Merchandisi...|[\\n  \"KS126DB6T06...|   [\\n  \"Merchandisi...|                  []|                  []|[\\n  \"KS126706DPF...|[\\n  \"Mathematics...|[\\n  \"KS440W865GC...|[\\n  \"SQL (Progra...|15-2051.01|Business Intellig...|15-2051.01|Business Intellig...|[\\n  \"45.0601\",\\n...|[\\n  \"Economics, ...|[\\n  \"45.06\",\\n  ...|[\\n  \"Economics\",...|[\\n  \"45\",\\n  \"27...|[\\n  \"Social Scie...|   15-0000|Computer and Math...|   15-2000|Mathematical Scie...|   15-2050|Data Scientists|   15-2051|Data Scientists|             23|Information Techn...|        231010|Business Intellig...|                  23101011|           General ERP Analy...|                2310|     Business Intellig...|                     23101011|              General ERP Analy...|           231010|  Business Intellig...|                   2310|        Business Intellig...|                23|   Information Techn...|15-0000|Computer and Math...|15-2000|Mathematical Scie...|15-2050|Data Scientists|15-2051|Data Scientists|        [\\n  7\\n]|  [\\n  \"Artificial ...|          44|        Retail Trade|         441|Motor Vehicle and...|        4413|Automotive Parts,...|       44133|Automotive Parts ...|      441330|Automotive Parts ...|\n",
      "|0cb072af26757b6c4...|         8/2/2024|  2024-08-02 17:08:...|         0|6/2/2024| 8/1/2024|    NULL| [\\n  \"Job Board\"\\n]| [\\n  \"maine.gov\"\\n]|[\\n  \"https://job...|         []|               NULL|Oracle Consultant...|Oracle Consultant...|       8/1/2024|            NULL|  133098|Smx Corporation L...|        SMX|               true|      [\\n  99\\n]| [\\n  \"No Educatio...|           99|No Education Listed|         NULL|              NULL|              1|Full-time (> 32 h...|                   3|                   3|        false|  NULL|          1|          Remote|               NULL|     NULL|       NULL|{\\n  \"lat\": 44.31...|    QXVndXN0YSwgTUU=|  Augusta, ME| 23011|  Kennebec, ME|12300|Augusta-Watervill...|   23|     Maine|          23011|        Kennebec, ME|          23011|        Kennebec, ME|       12300|Augusta-Watervill...|       12300|Augusta-Watervill...|    56|Administrative an...|   561|Administrative an...|  5613| Employment Services| 56132|Temporary Help Se...|561320|Temporary Help Se...|ET21DDA63780A7DC09| Oracle Consultants|oracle consultant...|[\\n  \"KS122626T55...|[\\n  \"Procurement...|[\\n  \"KS122626T55...|   [\\n  \"Procurement...|                  []|                  []|                  []|                  []|[\\n  \"BGSBF3F508F...|[\\n  \"Oracle Busi...|15-2051.01|Business Intellig...|15-2051.01|Business Intellig...|                  []|                  []|                  []|                  []|                  []|                  []|   15-0000|Computer and Math...|   15-2000|Mathematical Scie...|   15-2050|Data Scientists|   15-2051|Data Scientists|             23|Information Techn...|        231010|Business Intellig...|                  23101012|           Oracle Consultant...|                2310|     Business Intellig...|                     23101012|              Oracle Consultant...|           231010|  Business Intellig...|                   2310|        Business Intellig...|                23|   Information Techn...|15-0000|Computer and Math...|15-2000|Mathematical Scie...|15-2050|Data Scientists|15-2051|Data Scientists|             NULL|                  NULL|          56|Administrative an...|         561|Administrative an...|        5613| Employment Services|       56132|Temporary Help Se...|      561320|Temporary Help Se...|\n",
      "|85318b12b3331fa49...|         9/6/2024|  2024-09-06 20:32:...|         1|6/2/2024| 7/7/2024|      35| [\\n  \"Job Board\"\\n]|[\\n  \"dejobs.org\"\\n]|[\\n  \"https://dej...|         []|               NULL|        Data Analyst|Taking care of pe...|      6/10/2024|               8|39063746|            Sedgwick|   Sedgwick|              false|       [\\n  2\\n]| [\\n  \"Bachelor's ...|            2|  Bachelor's degree|         NULL|              NULL|              1|Full-time (> 32 h...|                   5|                NULL|        false|  NULL|          0|          [None]|               NULL|     NULL|       NULL|{\\n  \"lat\": 32.77...|    RGFsbGFzLCBUWA==|   Dallas, TX| 48113|    Dallas, TX|19100|Dallas-Fort Worth...|   48|     Texas|          48113|          Dallas, TX|          48113|          Dallas, TX|       19100|Dallas-Fort Worth...|       19100|Dallas-Fort Worth...|    52|Finance and Insur...|   524|Insurance Carrier...|  5242|Agencies, Brokera...| 52429|Other Insurance R...|524291|    Claims Adjusting|ET3037E0C947A02404|      Data Analysts|        data analyst|[\\n  \"KS1218W78FG...|[\\n  \"Management\"...|[\\n  \"ESF3939CE1F...|   [\\n  \"Exception R...|[\\n  \"KS683TN76T7...|[\\n  \"Security Cl...|[\\n  \"KS1218W78FG...|[\\n  \"Management\"...|[\\n  \"KS126HY6YLT...|[\\n  \"Microsoft O...|15-2051.01|Business Intellig...|15-2051.01|Business Intellig...|                  []|                  []|                  []|                  []|                  []|                  []|   15-0000|Computer and Math...|   15-2000|Mathematical Scie...|   15-2050|Data Scientists|   15-2051|Data Scientists|             23|Information Techn...|        231113|Data / Data Minin...|                  23111310|                   Data Analyst|                2311|     Data Analysis and...|                     23111310|                      Data Analyst|           231113|  Data / Data Minin...|                   2311|        Data Analysis and...|                23|   Information Techn...|15-0000|Computer and Math...|15-2000|Mathematical Scie...|15-2050|Data Scientists|15-2051|Data Scientists|             NULL|                  NULL|          52|Finance and Insur...|         524|Insurance Carrier...|        5242|Agencies, Brokera...|       52429|Other Insurance R...|      524291|    Claims Adjusting|\n",
      "|1b5c3941e54a1889e...|         9/6/2024|  2024-09-06 20:32:...|         1|6/2/2024|7/20/2024|      48| [\\n  \"Job Board\"\\n]|[\\n  \"disabledper...|[\\n  \"https://www...|         []|               NULL|Sr. Lead Data Mgm...|About this role:\\...|      6/12/2024|              10|37615159|         Wells Fargo|Wells Fargo|              false|      [\\n  99\\n]| [\\n  \"No Educatio...|           99|No Education Listed|         NULL|              NULL|              1|Full-time (> 32 h...|                   3|                NULL|        false|  NULL|          0|          [None]|               NULL|     NULL|       NULL|{\\n  \"lat\": 33.44...|    UGhvZW5peCwgQVo=|  Phoenix, AZ|  4013|  Maricopa, AZ|38060|Phoenix-Mesa-Chan...|    4|   Arizona|           4013|        Maricopa, AZ|           4013|        Maricopa, AZ|       38060|Phoenix-Mesa-Chan...|       38060|Phoenix-Mesa-Chan...|    52|Finance and Insur...|   522|Credit Intermedia...|  5221|Depository Credit...| 52211|  Commercial Banking|522110|  Commercial Banking|ET2114E0404BA30075|Management Analysts|sr lead data mgmt...|[\\n  \"KS123QX62QY...|[\\n  \"Exit Strate...|[\\n  \"KS123QX62QY...|   [\\n  \"Exit Strate...|                  []|                  []|[\\n  \"KS7G6NP6R6L...|[\\n  \"Reliability...|[\\n  \"KS4409D76NW...|[\\n  \"SAS (Softwa...|15-2051.01|Business Intellig...|15-2051.01|Business Intellig...|                  []|                  []|                  []|                  []|                  []|                  []|   15-0000|Computer and Math...|   15-2000|Mathematical Scie...|   15-2050|Data Scientists|   15-2051|Data Scientists|             23|Information Techn...|        231113|Data / Data Minin...|                  23111310|                   Data Analyst|                2311|     Data Analysis and...|                     23111310|                      Data Analyst|           231113|  Data / Data Minin...|                   2311|        Data Analysis and...|                23|   Information Techn...|15-0000|Computer and Math...|15-2000|Mathematical Scie...|15-2050|Data Scientists|15-2051|Data Scientists|        [\\n  6\\n]|  [\\n  \"Data Privac...|          52|Finance and Insur...|         522|Credit Intermedia...|        5221|Depository Credit...|       52211|  Commercial Banking|      522110|  Commercial Banking|\n",
      "|cb5ca25f02bdf25c1...|        6/19/2024|   2024-06-19 07:00:00|         0|6/2/2024|6/17/2024|      15|[\\n  \"FreeJobBoar...|[\\n  \"craigslist....|[\\n  \"https://mod...|         []|               NULL|Comisiones de $10...|Comisiones de $10...|      6/17/2024|              15|       0|        Unclassified|      LH/GM|              false|      [\\n  99\\n]| [\\n  \"No Educatio...|           99|No Education Listed|         NULL|              NULL|              3|Part-time / full-...|                NULL|                NULL|        false| 92500|          0|          [None]|               year|   150000|      35000|{\\n  \"lat\": 37.63...|    TW9kZXN0bywgQ0E=|  Modesto, CA|  6099|Stanislaus, CA|33700|         Modesto, CA|    6|California|           6099|      Stanislaus, CA|           6099|      Stanislaus, CA|       33700|         Modesto, CA|       33700|         Modesto, CA|    99|Unclassified Indu...|   999|Unclassified Indu...|  9999|Unclassified Indu...| 99999|Unclassified Indu...|999999|Unclassified Indu...|ET0000000000000000|       Unclassified|comisiones de por...|                  []|                  []|                  []|                     []|                  []|                  []|                  []|                  []|                  []|                  []|15-2051.01|Business Intellig...|15-2051.01|Business Intellig...|                  []|                  []|                  []|                  []|                  []|                  []|   15-0000|Computer and Math...|   15-2000|Mathematical Scie...|   15-2050|Data Scientists|   15-2051|Data Scientists|             23|Information Techn...|        231010|Business Intellig...|                  23101012|           Oracle Consultant...|                2310|     Business Intellig...|                     23101012|              Oracle Consultant...|           231010|  Business Intellig...|                   2310|        Business Intellig...|                23|   Information Techn...|15-0000|Computer and Math...|15-2000|Mathematical Scie...|15-2050|Data Scientists|15-2051|Data Scientists|             NULL|                  NULL|          99|Unclassified Indu...|         999|Unclassified Indu...|        9999|Unclassified Indu...|       99999|Unclassified Indu...|      999999|Unclassified Indu...|\n",
      "+--------------------+-----------------+----------------------+----------+--------+---------+--------+--------------------+--------------------+--------------------+-----------+-------------------+--------------------+--------------------+---------------+----------------+--------+--------------------+-----------+-------------------+----------------+---------------------+-------------+-------------------+-------------+------------------+---------------+--------------------+--------------------+--------------------+-------------+------+-----------+----------------+-------------------+---------+-----------+--------------------+--------------------+-------------+------+--------------+-----+--------------------+-----+----------+---------------+--------------------+---------------+--------------------+------------+--------------------+------------+--------------------+------+--------------------+------+--------------------+------+--------------------+------+--------------------+------+--------------------+------------------+-------------------+--------------------+--------------------+--------------------+--------------------+-----------------------+--------------------+--------------------+--------------------+--------------------+--------------------+--------------------+----------+--------------------+----------+--------------------+--------------------+--------------------+--------------------+--------------------+--------------------+--------------------+----------+--------------------+----------+--------------------+----------+---------------+----------+---------------+---------------+--------------------+--------------+--------------------+--------------------------+-------------------------------+--------------------+-------------------------+-----------------------------+----------------------------------+-----------------+----------------------+-----------------------+----------------------------+------------------+-----------------------+-------+--------------------+-------+--------------------+-------+---------------+-------+---------------+-----------------+----------------------+------------+--------------------+------------+--------------------+------------+--------------------+------------+--------------------+------------+--------------------+\n",
      "only showing top 5 rows\n"
     ]
    }
   ],
   "source": [
    "from pyspark.sql import SparkSession\n",
    "\n",
    "# Start a Spark session\n",
    "spark = SparkSession.builder.appName(\"JobPostingsAnalysis\").getOrCreate()\n",
    "\n",
    "# Load the CSV file into a Spark DataFrame\n",
    "df = spark.read.option(\"header\", \"true\").option(\"inferSchema\", \"true\").option(\"multiLine\",\"true\").option(\"escape\", \"\\\"\").csv(\"/home/ubuntu/Assignment2/data/lightcast_job_postings.csv\")\n",
    "\n",
    "# Register the DataFrame as a temporary SQL view\n",
    "df.createOrReplaceTempView(\"job_postings\")\n",
    "\n",
    "# Show Schema and Sample Data\n",
    "print(\"---This is Diagnostic check, No need to print it in the final doc---\")\n",
    "\n",
    "# comment the lines below when rendering the submission\n",
    "df.printSchema() \n",
    "df.show(5)"
   ]
  },
  {
   "cell_type": "code",
   "execution_count": 110,
   "id": "db62c988",
   "metadata": {},
   "outputs": [
    {
     "name": "stderr",
     "output_type": "stream",
     "text": [
      "[Stage 679:>                                                        (0 + 1) / 1]\r"
     ]
    },
    {
     "name": "stdout",
     "output_type": "stream",
     "text": [
      "+-----------+------------+---------------------------------------------+--------+---------------+----------------------+----------------+\n",
      "|industry_id|naics_2022_6|naics_2022_6_name                            |soc_code|soc_name       |specialized_occupation|occupation_group|\n",
      "+-----------+------------+---------------------------------------------+--------+---------------+----------------------+----------------+\n",
      "|0          |541613      |Marketing Consulting Services                |15-2051 |Data Scientists|SAP Analyst / Admin   |2310            |\n",
      "|1          |311513      |Cheese Manufacturing                         |15-2051 |Data Scientists|Data Analyst          |2311            |\n",
      "|2          |522110      |Commercial Banking                           |15-2051 |Data Scientists|SAP Analyst / Admin   |2310            |\n",
      "|3          |485310      |Taxi and Ridesharing Services                |15-2051 |Data Scientists|Data Analyst          |2311            |\n",
      "|4          |713990      |All Other Amusement and Recreation Industries|15-2051 |Data Scientists|Data Analyst          |2311            |\n",
      "+-----------+------------+---------------------------------------------+--------+---------------+----------------------+----------------+\n",
      "only showing top 5 rows\n"
     ]
    },
    {
     "name": "stderr",
     "output_type": "stream",
     "text": [
      "                                                                                \r"
     ]
    }
   ],
   "source": [
    "#Industries Dimension Table\n",
    "from pyspark.sql.functions import col, monotonically_increasing_id\n",
    "\n",
    "industries_df = df.select(\n",
    "    col(\"naics_2022_6\"),\n",
    "    col(\"naics_2022_6_name\"),\n",
    "    col(\"soc_5\").alias(\"soc_code\"),\n",
    "    col(\"soc_5_name\").alias(\"soc_name\"),\n",
    "    col(\"lot_specialized_occupation_name\").alias(\"specialized_occupation\"),\n",
    "    col(\"lot_occupation_group\").alias(\"occupation_group\")\n",
    ").distinct().withColumn(\"industry_id\", monotonically_increasing_id())\n",
    "\n",
    "# Rearrange columns to have industry_id first\n",
    "industries_df = industries_df.select(\n",
    "    \"industry_id\",\n",
    "    \"naics_2022_6\",\n",
    "    \"naics_2022_6_name\",\n",
    "    \"soc_code\",\n",
    "    \"soc_name\",\n",
    "    \"specialized_occupation\",\n",
    "    \"occupation_group\"\n",
    ")\n",
    "\n",
    "industries_df.show(5, truncate=False)"
   ]
  },
  {
   "cell_type": "code",
   "execution_count": 111,
   "id": "5bf21009",
   "metadata": {},
   "outputs": [
    {
     "name": "stderr",
     "output_type": "stream",
     "text": [
      "[Stage 682:>                                                        (0 + 1) / 1]\r"
     ]
    },
    {
     "name": "stdout",
     "output_type": "stream",
     "text": [
      "+----------+------------------+------------------+-------------------+\n",
      "|company_id|company_name      |company_raw       |company_is_staffing|\n",
      "+----------+------------------+------------------+-------------------+\n",
      "|0         |Unclassified      |I20 Technologies  |false              |\n",
      "|12        |Adecco            |Unknown           |true               |\n",
      "|20        |Amazon            |Amazon            |false              |\n",
      "|42        |Johnson & Johnson |Johnson & Johnson |false              |\n",
      "|99        |UnitedHealth Group|UnitedHealth Group|false              |\n",
      "+----------+------------------+------------------+-------------------+\n",
      "only showing top 5 rows\n"
     ]
    },
    {
     "name": "stderr",
     "output_type": "stream",
     "text": [
      "                                                                                \r"
     ]
    }
   ],
   "source": [
    "#Companies Dimension Table\n",
    "companies_df = df.select(\n",
    "    col(\"COMPANY\").alias(\"company_id\"),\n",
    "    col(\"COMPANY_NAME\").alias(\"company_name\"), \n",
    "    col(\"COMPANY_RAW\").alias(\"company_raw\"), \n",
    "    col(\"COMPANY_IS_STAFFING\").alias(\"company_is_staffing\")\n",
    ").dropDuplicates([\"company_id\"]).filter(col(\"COMPANY\").isNotNull())\n",
    "# Rearrange columns to have company_id first\n",
    "companies_df = companies_df.select(\n",
    "    \"company_id\",\n",
    "    \"company_name\",\n",
    "    \"company_raw\",\n",
    "    \"company_is_staffing\",\n",
    ")\n",
    "\n",
    "companies_df.show(5, truncate=False)"
   ]
  },
  {
   "cell_type": "code",
   "execution_count": 113,
   "id": "d4e062b8",
   "metadata": {},
   "outputs": [
    {
     "name": "stderr",
     "output_type": "stream",
     "text": [
      "[Stage 688:>                                                        (0 + 1) / 1]\r"
     ]
    },
    {
     "name": "stdout",
     "output_type": "stream",
     "text": [
      "+-------------------------------------------------+---------------+----------+------------+-----+---------------------------+\n",
      "|location_id                                      |city_name      |state_name|county_name |msa  |msa_name                   |\n",
      "+-------------------------------------------------+---------------+----------+------------+-----+---------------------------+\n",
      "|{\\n  \"lat\": 19.5208333,\\n  \"lon\": -155.9225\\n}   |Kealakekua, HI |Hawaii    |Hawaii, HI  |25900|Hilo, HI                   |\n",
      "|{\\n  \"lat\": 19.639994,\\n  \"lon\": -155.9969261\\n} |Kailua-Kona, HI|Hawaii    |Hawaii, HI  |25900|Hilo, HI                   |\n",
      "|{\\n  \"lat\": 20.0230556,\\n  \"lon\": -155.6716667\\n}|Waimea, HI     |Hawaii    |Kauai, HI   |28180|Kapaa, HI                  |\n",
      "|{\\n  \"lat\": 20.7644275,\\n  \"lon\": -156.4450063\\n}|Kihei, HI      |Hawaii    |Maui, HI    |27980|Kahului-Wailuku-Lahaina, HI|\n",
      "|{\\n  \"lat\": 20.8893351,\\n  \"lon\": -156.4729469\\n}|Kahului, HI    |Hawaii    |Maui, HI    |27980|Kahului-Wailuku-Lahaina, HI|\n",
      "|{\\n  \"lat\": 20.8911111,\\n  \"lon\": -156.5047222\\n}|Wailuku, HI    |Hawaii    |Maui, HI    |27980|Kahului-Wailuku-Lahaina, HI|\n",
      "|{\\n  \"lat\": 21.3069444,\\n  \"lon\": -157.8583333\\n}|Honolulu, HI   |Hawaii    |Honolulu, HI|46520|Urban Honolulu, HI         |\n",
      "|{\\n  \"lat\": 21.313149,\\n  \"lon\": -158.0089992\\n} |Ewa Beach, HI  |Hawaii    |Honolulu, HI|46520|Urban Honolulu, HI         |\n",
      "|{\\n  \"lat\": 21.3136151,\\n  \"lon\": -157.8480364\\n}|Honolulu, HI   |Hawaii    |Honolulu, HI|46520|Urban Honolulu, HI         |\n",
      "|{\\n  \"lat\": 21.3443273,\\n  \"lon\": -157.8841776\\n}|Honolulu, HI   |Hawaii    |Honolulu, HI|46520|Urban Honolulu, HI         |\n",
      "+-------------------------------------------------+---------------+----------+------------+-----+---------------------------+\n",
      "only showing top 10 rows\n"
     ]
    },
    {
     "name": "stderr",
     "output_type": "stream",
     "text": [
      "                                                                                \r"
     ]
    }
   ],
   "source": [
    "#locations Dimension Table\n",
    "from pyspark.sql.functions import col, monotonically_increasing_id\n",
    "\n",
    "locations_df = df.select(\n",
    "    col(\"LOCATION\").alias(\"location_id\"),\n",
    "    col(\"CITY_NAME\").alias(\"city_name\"),\n",
    "    col(\"STATE_NAME\").alias(\"state_name\"),\n",
    "    col(\"COUNTY_NAME\").alias(\"county_name\"),\n",
    "    col(\"MSA\").alias(\"msa\"),\n",
    "    col(\"MSA_NAME\").alias(\"msa_name\"),\n",
    ").filter(\n",
    "    (col(\"LOCATION\").isNotNull()) &\n",
    "    (col(\"LOCATION\") != '{\"lat\": 0,\\n  \"lon\": 0\\n}') & \n",
    "    (~col(\"CITY_NAME\").like(\"[Unknown%\")) & \n",
    "    (~col(\"COUNTY_NAME\").like(\"[Unknown%\"))\n",
    ").dropDuplicates([\"location_id\"])\n",
    "\n",
    "# Rearrange columns to have location_id first\n",
    "locations_df = locations_df.select(\n",
    "    \"location_id\",\n",
    "    \"city_name\",\n",
    "    \"state_name\",\n",
    "    \"county_name\",\n",
    "    \"msa\",\n",
    "    \"msa_name\"\n",
    ")\n",
    "locations_df.show(10, truncate=False)\n"
   ]
  },
  {
   "cell_type": "code",
   "execution_count": 114,
   "id": "7c64aa58",
   "metadata": {},
   "outputs": [],
   "source": [
    "#Job_postings Fact Table\n",
    "from pyspark.sql.functions import col, monotonically_increasing_id\n",
    "\n",
    "job_postings_df = df.select(\n",
    "    col(\"ID\").alias(\"job_id\"),\n",
    "    col(\"TITLE_RAW\").alias(\"title_raw\"),\n",
    "    col(\"TITLE_CLEAN\").alias(\"title_clean\"),\n",
    "    col(\"COMPANY\").alias(\"company_id\"),                # FK to companies\n",
    "    col(\"NAICS_2022_6\").alias(\"industry_id\"),          # FK to industries\n",
    "    col(\"EMPLOYMENT_TYPE_NAME\").alias(\"employment_type_name\"),\n",
    "    col(\"REMOTE_TYPE_NAME\").alias(\"remote_type_name\"),\n",
    "    col(\"BODY\").alias(\"body\"),\n",
    "    col(\"MIN_YEARS_EXPERIENCE\").alias(\"min_years_experience\"),\n",
    "    col(\"MAX_YEARS_EXPERIENCE\").alias(\"max_years_experience\"),\n",
    "    col(\"SALARY\").alias(\"salary\"),\n",
    "    col(\"SALARY_FROM\").alias(\"salary_from\"),\n",
    "    col(\"SALARY_TO\").alias(\"salary_to\"),\n",
    "    col(\"LOCATION\").alias(\"location_id\"),              # FK to locations\n",
    "    col(\"POSTED\").alias(\"posted\"),\n",
    "    col(\"EXPIRED\").alias(\"expired\"),\n",
    "    col(\"DURATION\").alias(\"duration\")\n",
    ").dropDuplicates([\"job_id\"])\n"
   ]
  },
  {
   "cell_type": "code",
   "execution_count": 115,
   "id": "e220cd09",
   "metadata": {},
   "outputs": [
    {
     "name": "stderr",
     "output_type": "stream",
     "text": [
      "                                                                                \r"
     ]
    }
   ],
   "source": [
    "base_path = \"/home/ubuntu/Assignment2/tables\"\n",
    "\n",
    "# Save Industries\n",
    "industries_df.coalesce(1).write.mode(\"overwrite\") \\\n",
    "    .option(\"header\", \"true\") \\\n",
    "    .csv(f\"{base_path}/industries\")\n",
    "\n",
    "# Save Companies\n",
    "companies_df.coalesce(1).write.mode(\"overwrite\") \\\n",
    "    .option(\"header\", \"true\") \\\n",
    "    .csv(f\"{base_path}/companies\")\n",
    "\n",
    "# Save Locations\n",
    "locations_df.coalesce(1).write.mode(\"overwrite\") \\\n",
    "    .option(\"header\", \"true\") \\\n",
    "    .csv(f\"{base_path}/locations\")\n",
    "\n",
    "# Save Job Postings\n",
    "job_postings_df.coalesce(1).write.mode(\"overwrite\") \\\n",
    "    .option(\"header\", \"true\") \\\n",
    "    .csv(f\"{base_path}/job_postings\")"
   ]
  },
  {
   "cell_type": "code",
   "execution_count": 116,
   "id": "9c521316",
   "metadata": {},
   "outputs": [],
   "source": [
    "# Register industries table as a temp view\n",
    "industries_df.createOrReplaceTempView(\"industries\")\n",
    "companies_df.createOrReplaceTempView(\"companies\")\n",
    "locations_df.createOrReplaceTempView(\"locations\")\n",
    "job_postings_df.createOrReplaceTempView(\"job_postings\")"
   ]
  },
  {
   "cell_type": "code",
   "execution_count": 117,
   "id": "becec1ac",
   "metadata": {},
   "outputs": [
    {
     "name": "stderr",
     "output_type": "stream",
     "text": [
      "[Stage 703:>                                                        (0 + 1) / 1]\r"
     ]
    },
    {
     "name": "stdout",
     "output_type": "stream",
     "text": [
      "+-----------------------------+---------+\n",
      "|title_clean                  |job_count|\n",
      "+-----------------------------+---------+\n",
      "|data analyst                 |4668     |\n",
      "|enterprise architect         |851      |\n",
      "|senior data analyst          |785      |\n",
      "|business intelligence analyst|746      |\n",
      "|data modeler                 |305      |\n",
      "+-----------------------------+---------+\n",
      "\n"
     ]
    },
    {
     "name": "stderr",
     "output_type": "stream",
     "text": [
      "                                                                                \r"
     ]
    }
   ],
   "source": [
    "# Run a Spark SQL query to get top 5 most posted job titles\n",
    "top_5_job_titles = spark.sql(\"\"\"\n",
    "    SELECT title_clean, COUNT(*) AS job_count\n",
    "    FROM job_postings\n",
    "    GROUP BY Title_clean\n",
    "    ORDER BY job_count DESC\n",
    "    LIMIT 5;\n",
    "\"\"\")\n",
    "\n",
    "# Show the result\n",
    "top_5_job_titles.show(5, truncate=False)"
   ]
  },
  {
   "cell_type": "code",
   "execution_count": 118,
   "id": "2b5ddb5a",
   "metadata": {},
   "outputs": [
    {
     "name": "stderr",
     "output_type": "stream",
     "text": [
      "[Stage 709:>                                                        (0 + 1) / 1]\r"
     ]
    },
    {
     "name": "stdout",
     "output_type": "stream",
     "text": [
      "+-----------------------------+---------+\n",
      "|TITLE_RAW                    |job_count|\n",
      "+-----------------------------+---------+\n",
      "|Data Analyst                 |4201     |\n",
      "|Enterprise Architect         |808      |\n",
      "|Senior Data Analyst          |724      |\n",
      "|Business Intelligence Analyst|686      |\n",
      "|Data Modeler                 |281      |\n",
      "+-----------------------------+---------+\n",
      "\n"
     ]
    },
    {
     "name": "stderr",
     "output_type": "stream",
     "text": [
      "                                                                                \r"
     ]
    }
   ],
   "source": [
    "top_5_job_titles_raw = spark.sql(\"\"\"\n",
    "    SELECT TITLE_RAW, COUNT(*) AS job_count\n",
    "    FROM job_postings\n",
    "    GROUP BY TITLE_RAW\n",
    "    ORDER BY job_count DESC\n",
    "    LIMIT 5\n",
    "\"\"\")\n",
    "\n",
    "top_5_job_titles_raw.show(5, truncate=False)"
   ]
  },
  {
   "cell_type": "code",
   "execution_count": 119,
   "id": "2d248e40",
   "metadata": {},
   "outputs": [
    {
     "name": "stderr",
     "output_type": "stream",
     "text": [
      "                                                                                \r"
     ]
    },
    {
     "data": {
      "text/html": [
       "<div>\n",
       "<style scoped>\n",
       "    .dataframe tbody tr th:only-of-type {\n",
       "        vertical-align: middle;\n",
       "    }\n",
       "\n",
       "    .dataframe tbody tr th {\n",
       "        vertical-align: top;\n",
       "    }\n",
       "\n",
       "    .dataframe thead th {\n",
       "        text-align: right;\n",
       "    }\n",
       "</style>\n",
       "<table border=\"1\" class=\"dataframe\">\n",
       "  <thead>\n",
       "    <tr style=\"text-align: right;\">\n",
       "      <th></th>\n",
       "      <th>title_clean</th>\n",
       "      <th>job_count</th>\n",
       "    </tr>\n",
       "  </thead>\n",
       "  <tbody>\n",
       "    <tr>\n",
       "      <th>0</th>\n",
       "      <td>data analyst</td>\n",
       "      <td>4668</td>\n",
       "    </tr>\n",
       "    <tr>\n",
       "      <th>1</th>\n",
       "      <td>enterprise architect</td>\n",
       "      <td>851</td>\n",
       "    </tr>\n",
       "    <tr>\n",
       "      <th>2</th>\n",
       "      <td>senior data analyst</td>\n",
       "      <td>785</td>\n",
       "    </tr>\n",
       "    <tr>\n",
       "      <th>3</th>\n",
       "      <td>business intelligence analyst</td>\n",
       "      <td>746</td>\n",
       "    </tr>\n",
       "    <tr>\n",
       "      <th>4</th>\n",
       "      <td>data modeler</td>\n",
       "      <td>305</td>\n",
       "    </tr>\n",
       "  </tbody>\n",
       "</table>\n",
       "</div>"
      ],
      "text/plain": [
       "                     title_clean  job_count\n",
       "0                   data analyst       4668\n",
       "1           enterprise architect        851\n",
       "2            senior data analyst        785\n",
       "3  business intelligence analyst        746\n",
       "4                   data modeler        305"
      ]
     },
     "execution_count": 119,
     "metadata": {},
     "output_type": "execute_result"
    }
   ],
   "source": [
    "import pandas as pd\n",
    "\n",
    "top_5_job_titles_pd = top_5_job_titles.toPandas()\n",
    "top_5_job_titles_pd"
   ]
  },
  {
   "cell_type": "code",
   "execution_count": 120,
   "id": "c42a8494",
   "metadata": {},
   "outputs": [
    {
     "name": "stderr",
     "output_type": "stream",
     "text": [
      "                                                                                \r"
     ]
    },
    {
     "name": "stdout",
     "output_type": "stream",
     "text": [
      "+--------------------------------------------------------------------------------------+--------------------------------+-------------+\n",
      "|industry_name                                                                         |specialized_occupation          |median_salary|\n",
      "+--------------------------------------------------------------------------------------+--------------------------------+-------------+\n",
      "|Computing Infrastructure Providers, Data Processing, Web Hosting, and Related Services|Financial Data Analyst          |134984       |\n",
      "|Computing Infrastructure Providers, Data Processing, Web Hosting, and Related Services|Data Quality Analyst            |134984       |\n",
      "|Computing Infrastructure Providers, Data Processing, Web Hosting, and Related Services|Marketing Analyst               |134984       |\n",
      "|Computing Infrastructure Providers, Data Processing, Web Hosting, and Related Services|Data Analyst                    |134984       |\n",
      "|Computing Infrastructure Providers, Data Processing, Web Hosting, and Related Services|Enterprise Architect            |134984       |\n",
      "|Computing Infrastructure Providers, Data Processing, Web Hosting, and Related Services|General ERP Analyst / Consultant|134984       |\n",
      "|Computing Infrastructure Providers, Data Processing, Web Hosting, and Related Services|Business Analyst (General)      |134984       |\n",
      "|Computing Infrastructure Providers, Data Processing, Web Hosting, and Related Services|Oracle Consultant / Analyst     |134984       |\n",
      "|Computing Infrastructure Providers, Data Processing, Web Hosting, and Related Services|SAP Analyst / Admin             |134984       |\n",
      "|Computing Infrastructure Providers, Data Processing, Web Hosting, and Related Services|Business Intelligence Analyst   |134984       |\n",
      "+--------------------------------------------------------------------------------------+--------------------------------+-------------+\n",
      "only showing top 10 rows\n"
     ]
    }
   ],
   "source": [
    "#Query 1: Industry-Specific Salary Trends Grouped by Job Title\n",
    "query1 = spark.sql(\"\"\"\n",
    "    SELECT \n",
    "    i.naics_2022_6_name AS industry_name,\n",
    "    i.specialized_occupation,\n",
    "    PERCENTILE_APPROX(j.salary, 0.5) AS median_salary\n",
    "FROM job_postings j\n",
    "JOIN industries i\n",
    "    ON j.industry_id = i.naics_2022_6\n",
    "WHERE j.salary IS NOT NULL\n",
    "  AND j.salary > 0\n",
    "  AND i.naics_2022_6 = '518210'\n",
    "GROUP BY i.naics_2022_6_name, i.specialized_occupation\n",
    "ORDER BY median_salary DESC\n",
    "\"\"\")\n",
    "\n",
    "\n",
    "query1.show(10, truncate=False)"
   ]
  },
  {
   "cell_type": "code",
   "execution_count": 121,
   "id": "3cd31399",
   "metadata": {},
   "outputs": [
    {
     "name": "stderr",
     "output_type": "stream",
     "text": [
      "                                                                                \r"
     ]
    },
    {
     "data": {
      "application/vnd.plotly.v1+json": {
       "config": {
        "plotlyServerURL": "https://plot.ly"
       },
       "data": [
        {
         "hovertemplate": "Median Salary ($)=%{x}<br>Specialized Occupation=%{y}<extra></extra>",
         "legendgroup": "",
         "marker": {
          "color": "#1f77b4",
          "pattern": {
           "shape": ""
          }
         },
         "name": "",
         "orientation": "h",
         "showlegend": false,
         "textposition": "auto",
         "type": "bar",
         "x": {
          "bdata": "SA8CAEgPAgBIDwIASA8CAEgPAgBIDwIASA8CAEgPAgBIDwIASA8CAEgPAgA=",
          "dtype": "i4"
         },
         "xaxis": "x",
         "y": [
          "Financial Data Analyst",
          "Data Quality Analyst",
          "Marketing Analyst",
          "Data Analyst",
          "Enterprise Architect",
          "General ERP Analyst / Consultant",
          "Business Analyst (General)",
          "Oracle Consultant / Analyst",
          "SAP Analyst / Admin",
          "Business Intelligence Analyst",
          "Healthcare Analyst"
         ],
         "yaxis": "y"
        }
       ],
       "layout": {
        "barmode": "relative",
        "legend": {
         "tracegroupgap": 0
        },
        "template": {
         "data": {
          "bar": [
           {
            "error_x": {
             "color": "#2a3f5f"
            },
            "error_y": {
             "color": "#2a3f5f"
            },
            "marker": {
             "line": {
              "color": "#E5ECF6",
              "width": 0.5
             },
             "pattern": {
              "fillmode": "overlay",
              "size": 10,
              "solidity": 0.2
             }
            },
            "type": "bar"
           }
          ],
          "barpolar": [
           {
            "marker": {
             "line": {
              "color": "#E5ECF6",
              "width": 0.5
             },
             "pattern": {
              "fillmode": "overlay",
              "size": 10,
              "solidity": 0.2
             }
            },
            "type": "barpolar"
           }
          ],
          "carpet": [
           {
            "aaxis": {
             "endlinecolor": "#2a3f5f",
             "gridcolor": "white",
             "linecolor": "white",
             "minorgridcolor": "white",
             "startlinecolor": "#2a3f5f"
            },
            "baxis": {
             "endlinecolor": "#2a3f5f",
             "gridcolor": "white",
             "linecolor": "white",
             "minorgridcolor": "white",
             "startlinecolor": "#2a3f5f"
            },
            "type": "carpet"
           }
          ],
          "choropleth": [
           {
            "colorbar": {
             "outlinewidth": 0,
             "ticks": ""
            },
            "type": "choropleth"
           }
          ],
          "contour": [
           {
            "colorbar": {
             "outlinewidth": 0,
             "ticks": ""
            },
            "colorscale": [
             [
              0,
              "#0d0887"
             ],
             [
              0.1111111111111111,
              "#46039f"
             ],
             [
              0.2222222222222222,
              "#7201a8"
             ],
             [
              0.3333333333333333,
              "#9c179e"
             ],
             [
              0.4444444444444444,
              "#bd3786"
             ],
             [
              0.5555555555555556,
              "#d8576b"
             ],
             [
              0.6666666666666666,
              "#ed7953"
             ],
             [
              0.7777777777777778,
              "#fb9f3a"
             ],
             [
              0.8888888888888888,
              "#fdca26"
             ],
             [
              1,
              "#f0f921"
             ]
            ],
            "type": "contour"
           }
          ],
          "contourcarpet": [
           {
            "colorbar": {
             "outlinewidth": 0,
             "ticks": ""
            },
            "type": "contourcarpet"
           }
          ],
          "heatmap": [
           {
            "colorbar": {
             "outlinewidth": 0,
             "ticks": ""
            },
            "colorscale": [
             [
              0,
              "#0d0887"
             ],
             [
              0.1111111111111111,
              "#46039f"
             ],
             [
              0.2222222222222222,
              "#7201a8"
             ],
             [
              0.3333333333333333,
              "#9c179e"
             ],
             [
              0.4444444444444444,
              "#bd3786"
             ],
             [
              0.5555555555555556,
              "#d8576b"
             ],
             [
              0.6666666666666666,
              "#ed7953"
             ],
             [
              0.7777777777777778,
              "#fb9f3a"
             ],
             [
              0.8888888888888888,
              "#fdca26"
             ],
             [
              1,
              "#f0f921"
             ]
            ],
            "type": "heatmap"
           }
          ],
          "histogram": [
           {
            "marker": {
             "pattern": {
              "fillmode": "overlay",
              "size": 10,
              "solidity": 0.2
             }
            },
            "type": "histogram"
           }
          ],
          "histogram2d": [
           {
            "colorbar": {
             "outlinewidth": 0,
             "ticks": ""
            },
            "colorscale": [
             [
              0,
              "#0d0887"
             ],
             [
              0.1111111111111111,
              "#46039f"
             ],
             [
              0.2222222222222222,
              "#7201a8"
             ],
             [
              0.3333333333333333,
              "#9c179e"
             ],
             [
              0.4444444444444444,
              "#bd3786"
             ],
             [
              0.5555555555555556,
              "#d8576b"
             ],
             [
              0.6666666666666666,
              "#ed7953"
             ],
             [
              0.7777777777777778,
              "#fb9f3a"
             ],
             [
              0.8888888888888888,
              "#fdca26"
             ],
             [
              1,
              "#f0f921"
             ]
            ],
            "type": "histogram2d"
           }
          ],
          "histogram2dcontour": [
           {
            "colorbar": {
             "outlinewidth": 0,
             "ticks": ""
            },
            "colorscale": [
             [
              0,
              "#0d0887"
             ],
             [
              0.1111111111111111,
              "#46039f"
             ],
             [
              0.2222222222222222,
              "#7201a8"
             ],
             [
              0.3333333333333333,
              "#9c179e"
             ],
             [
              0.4444444444444444,
              "#bd3786"
             ],
             [
              0.5555555555555556,
              "#d8576b"
             ],
             [
              0.6666666666666666,
              "#ed7953"
             ],
             [
              0.7777777777777778,
              "#fb9f3a"
             ],
             [
              0.8888888888888888,
              "#fdca26"
             ],
             [
              1,
              "#f0f921"
             ]
            ],
            "type": "histogram2dcontour"
           }
          ],
          "mesh3d": [
           {
            "colorbar": {
             "outlinewidth": 0,
             "ticks": ""
            },
            "type": "mesh3d"
           }
          ],
          "parcoords": [
           {
            "line": {
             "colorbar": {
              "outlinewidth": 0,
              "ticks": ""
             }
            },
            "type": "parcoords"
           }
          ],
          "pie": [
           {
            "automargin": true,
            "type": "pie"
           }
          ],
          "scatter": [
           {
            "fillpattern": {
             "fillmode": "overlay",
             "size": 10,
             "solidity": 0.2
            },
            "type": "scatter"
           }
          ],
          "scatter3d": [
           {
            "line": {
             "colorbar": {
              "outlinewidth": 0,
              "ticks": ""
             }
            },
            "marker": {
             "colorbar": {
              "outlinewidth": 0,
              "ticks": ""
             }
            },
            "type": "scatter3d"
           }
          ],
          "scattercarpet": [
           {
            "marker": {
             "colorbar": {
              "outlinewidth": 0,
              "ticks": ""
             }
            },
            "type": "scattercarpet"
           }
          ],
          "scattergeo": [
           {
            "marker": {
             "colorbar": {
              "outlinewidth": 0,
              "ticks": ""
             }
            },
            "type": "scattergeo"
           }
          ],
          "scattergl": [
           {
            "marker": {
             "colorbar": {
              "outlinewidth": 0,
              "ticks": ""
             }
            },
            "type": "scattergl"
           }
          ],
          "scattermap": [
           {
            "marker": {
             "colorbar": {
              "outlinewidth": 0,
              "ticks": ""
             }
            },
            "type": "scattermap"
           }
          ],
          "scattermapbox": [
           {
            "marker": {
             "colorbar": {
              "outlinewidth": 0,
              "ticks": ""
             }
            },
            "type": "scattermapbox"
           }
          ],
          "scatterpolar": [
           {
            "marker": {
             "colorbar": {
              "outlinewidth": 0,
              "ticks": ""
             }
            },
            "type": "scatterpolar"
           }
          ],
          "scatterpolargl": [
           {
            "marker": {
             "colorbar": {
              "outlinewidth": 0,
              "ticks": ""
             }
            },
            "type": "scatterpolargl"
           }
          ],
          "scatterternary": [
           {
            "marker": {
             "colorbar": {
              "outlinewidth": 0,
              "ticks": ""
             }
            },
            "type": "scatterternary"
           }
          ],
          "surface": [
           {
            "colorbar": {
             "outlinewidth": 0,
             "ticks": ""
            },
            "colorscale": [
             [
              0,
              "#0d0887"
             ],
             [
              0.1111111111111111,
              "#46039f"
             ],
             [
              0.2222222222222222,
              "#7201a8"
             ],
             [
              0.3333333333333333,
              "#9c179e"
             ],
             [
              0.4444444444444444,
              "#bd3786"
             ],
             [
              0.5555555555555556,
              "#d8576b"
             ],
             [
              0.6666666666666666,
              "#ed7953"
             ],
             [
              0.7777777777777778,
              "#fb9f3a"
             ],
             [
              0.8888888888888888,
              "#fdca26"
             ],
             [
              1,
              "#f0f921"
             ]
            ],
            "type": "surface"
           }
          ],
          "table": [
           {
            "cells": {
             "fill": {
              "color": "#EBF0F8"
             },
             "line": {
              "color": "white"
             }
            },
            "header": {
             "fill": {
              "color": "#C8D4E3"
             },
             "line": {
              "color": "white"
             }
            },
            "type": "table"
           }
          ]
         },
         "layout": {
          "annotationdefaults": {
           "arrowcolor": "#2a3f5f",
           "arrowhead": 0,
           "arrowwidth": 1
          },
          "autotypenumbers": "strict",
          "coloraxis": {
           "colorbar": {
            "outlinewidth": 0,
            "ticks": ""
           }
          },
          "colorscale": {
           "diverging": [
            [
             0,
             "#8e0152"
            ],
            [
             0.1,
             "#c51b7d"
            ],
            [
             0.2,
             "#de77ae"
            ],
            [
             0.3,
             "#f1b6da"
            ],
            [
             0.4,
             "#fde0ef"
            ],
            [
             0.5,
             "#f7f7f7"
            ],
            [
             0.6,
             "#e6f5d0"
            ],
            [
             0.7,
             "#b8e186"
            ],
            [
             0.8,
             "#7fbc41"
            ],
            [
             0.9,
             "#4d9221"
            ],
            [
             1,
             "#276419"
            ]
           ],
           "sequential": [
            [
             0,
             "#0d0887"
            ],
            [
             0.1111111111111111,
             "#46039f"
            ],
            [
             0.2222222222222222,
             "#7201a8"
            ],
            [
             0.3333333333333333,
             "#9c179e"
            ],
            [
             0.4444444444444444,
             "#bd3786"
            ],
            [
             0.5555555555555556,
             "#d8576b"
            ],
            [
             0.6666666666666666,
             "#ed7953"
            ],
            [
             0.7777777777777778,
             "#fb9f3a"
            ],
            [
             0.8888888888888888,
             "#fdca26"
            ],
            [
             1,
             "#f0f921"
            ]
           ],
           "sequentialminus": [
            [
             0,
             "#0d0887"
            ],
            [
             0.1111111111111111,
             "#46039f"
            ],
            [
             0.2222222222222222,
             "#7201a8"
            ],
            [
             0.3333333333333333,
             "#9c179e"
            ],
            [
             0.4444444444444444,
             "#bd3786"
            ],
            [
             0.5555555555555556,
             "#d8576b"
            ],
            [
             0.6666666666666666,
             "#ed7953"
            ],
            [
             0.7777777777777778,
             "#fb9f3a"
            ],
            [
             0.8888888888888888,
             "#fdca26"
            ],
            [
             1,
             "#f0f921"
            ]
           ]
          },
          "colorway": [
           "#636efa",
           "#EF553B",
           "#00cc96",
           "#ab63fa",
           "#FFA15A",
           "#19d3f3",
           "#FF6692",
           "#B6E880",
           "#FF97FF",
           "#FECB52"
          ],
          "font": {
           "color": "#2a3f5f"
          },
          "geo": {
           "bgcolor": "white",
           "lakecolor": "white",
           "landcolor": "#E5ECF6",
           "showlakes": true,
           "showland": true,
           "subunitcolor": "white"
          },
          "hoverlabel": {
           "align": "left"
          },
          "hovermode": "closest",
          "mapbox": {
           "style": "light"
          },
          "paper_bgcolor": "white",
          "plot_bgcolor": "#E5ECF6",
          "polar": {
           "angularaxis": {
            "gridcolor": "white",
            "linecolor": "white",
            "ticks": ""
           },
           "bgcolor": "#E5ECF6",
           "radialaxis": {
            "gridcolor": "white",
            "linecolor": "white",
            "ticks": ""
           }
          },
          "scene": {
           "xaxis": {
            "backgroundcolor": "#E5ECF6",
            "gridcolor": "white",
            "gridwidth": 2,
            "linecolor": "white",
            "showbackground": true,
            "ticks": "",
            "zerolinecolor": "white"
           },
           "yaxis": {
            "backgroundcolor": "#E5ECF6",
            "gridcolor": "white",
            "gridwidth": 2,
            "linecolor": "white",
            "showbackground": true,
            "ticks": "",
            "zerolinecolor": "white"
           },
           "zaxis": {
            "backgroundcolor": "#E5ECF6",
            "gridcolor": "white",
            "gridwidth": 2,
            "linecolor": "white",
            "showbackground": true,
            "ticks": "",
            "zerolinecolor": "white"
           }
          },
          "shapedefaults": {
           "line": {
            "color": "#2a3f5f"
           }
          },
          "ternary": {
           "aaxis": {
            "gridcolor": "white",
            "linecolor": "white",
            "ticks": ""
           },
           "baxis": {
            "gridcolor": "white",
            "linecolor": "white",
            "ticks": ""
           },
           "bgcolor": "#E5ECF6",
           "caxis": {
            "gridcolor": "white",
            "linecolor": "white",
            "ticks": ""
           }
          },
          "title": {
           "x": 0.05
          },
          "xaxis": {
           "automargin": true,
           "gridcolor": "white",
           "linecolor": "white",
           "ticks": "",
           "title": {
            "standoff": 15
           },
           "zerolinecolor": "white",
           "zerolinewidth": 2
          },
          "yaxis": {
           "automargin": true,
           "gridcolor": "white",
           "linecolor": "white",
           "ticks": "",
           "title": {
            "standoff": 15
           },
           "zerolinecolor": "white",
           "zerolinewidth": 2
          }
         }
        },
        "title": {
         "text": "Median Salary Trends in the Technology Sector by Specialized Occupation"
        },
        "uniformtext": {
         "minsize": 8,
         "mode": "hide"
        },
        "xaxis": {
         "anchor": "y",
         "domain": [
          0,
          1
         ],
         "dtick": 20000,
         "range": [
          0,
          120000
         ],
         "title": {
          "text": "Median Salary ($)"
         }
        },
        "yaxis": {
         "anchor": "x",
         "domain": [
          0,
          1
         ],
         "title": {
          "text": "Specialized Occupation"
         }
        }
       }
      }
     },
     "metadata": {},
     "output_type": "display_data"
    }
   ],
   "source": [
    "# Visualization using Plotly\n",
    "import plotly.express as px\n",
    "\n",
    "query1_df = query1.toPandas()\n",
    "\n",
    "fig = px.bar(\n",
    "    query1_df,\n",
    "    x=\"median_salary\",\n",
    "    y=\"specialized_occupation\",\n",
    "    orientation=\"h\",\n",
    "    title=\"Median Salary Trends in the Technology Sector by Specialized Occupation\",\n",
    "    labels={\"median_salary\": \"Median Salary ($)\", \"specialized_occupation\": \"Specialized Occupation\"},\n",
    "    color_discrete_sequence=[\"#1f77b4\"] \n",
    ")\n",
    "\n",
    "# 调整布局\n",
    "fig.update_layout(\n",
    "    xaxis=dict(\n",
    "        title=\"Median Salary ($)\",\n",
    "        range=[0, 120000],\n",
    "        dtick=20000\n",
    "    ),\n",
    "    yaxis_title=\"Specialized Occupation\",\n",
    "    uniformtext_minsize=8,\n",
    "    uniformtext_mode='hide'\n",
    ")\n",
    "\n",
    "\n",
    "fig.show()"
   ]
  },
  {
   "cell_type": "code",
   "execution_count": 122,
   "id": "8cd936a3",
   "metadata": {},
   "outputs": [
    {
     "name": "stderr",
     "output_type": "stream",
     "text": [
      "                                                                                \r"
     ]
    },
    {
     "name": "stdout",
     "output_type": "stream",
     "text": [
      "+----------------------------------------------+-----------+\n",
      "|company_name                                  |remote_jobs|\n",
      "+----------------------------------------------+-----------+\n",
      "|Unclassified                                  |63         |\n",
      "|Kaiser Permanente                             |33         |\n",
      "|University of California                      |23         |\n",
      "|The Judge Group                               |21         |\n",
      "|California Public Employees' Retirement System|12         |\n",
      "+----------------------------------------------+-----------+\n",
      "\n"
     ]
    }
   ],
   "source": [
    "# Query 2: Top 5 Companies with the Most Remote Jobs in California\n",
    "\n",
    "query2 = spark.sql(\"\"\"\n",
    "    SELECT \n",
    "        c.company_name,\n",
    "        COUNT(*) AS remote_jobs\n",
    "    FROM job_postings j\n",
    "    JOIN companies c \n",
    "        ON j.company_id = c.company_id\n",
    "    JOIN locations l \n",
    "        ON j.location_id = l.location_id\n",
    "    WHERE j.remote_type_name = 'Remote'\n",
    "      AND l.state_name = 'California'\n",
    "    GROUP BY c.company_name\n",
    "    ORDER BY remote_jobs DESC\n",
    "    LIMIT 5\n",
    "\"\"\")\n",
    "\n",
    "query2.show(truncate=False)"
   ]
  },
  {
   "cell_type": "code",
   "execution_count": 91,
   "id": "7cdf6a99",
   "metadata": {},
   "outputs": [
    {
     "name": "stderr",
     "output_type": "stream",
     "text": [
      "                                                                                \r"
     ]
    }
   ],
   "source": [
    "query2_df = query2.toPandas()"
   ]
  },
  {
   "cell_type": "code",
   "execution_count": 59,
   "id": "fda23fa9",
   "metadata": {},
   "outputs": [
    {
     "name": "stderr",
     "output_type": "stream",
     "text": [
      "/tmp/ipykernel_2359/1805866087.py:5: FutureWarning:\n",
      "\n",
      "\n",
      "\n",
      "Passing `palette` without assigning `hue` is deprecated and will be removed in v0.14.0. Assign the `x` variable to `hue` and set `legend=False` for the same effect.\n",
      "\n",
      "\n"
     ]
    },
    {
     "data": {
      "image/png": "[encoded data removed]",
      "text/plain": [
       "<Figure size 1000x600 with 1 Axes>"
      ]
     },
     "metadata": {},
     "output_type": "display_data"
    }
   ],
   "source": [
    "import seaborn as sns\n",
    "import matplotlib.pyplot as plt\n",
    "\n",
    "plt.figure(figsize=(10,6))\n",
    "sns.barplot(\n",
    "    data=query2_df, \n",
    "    x=\"company_name\", \n",
    "    y=\"remote_jobs\", \n",
    "    palette=\"viridis\"\n",
    ")\n",
    "\n",
    "plt.title(\"Top 5 Companies with Most Remote Jobs in California\", fontsize=14)\n",
    "plt.xlabel(\"Company Name\")\n",
    "plt.ylabel(\"Number of Remote Jobs\")\n",
    "plt.xticks(rotation=45, ha=\"right\")\n",
    "plt.tight_layout()\n",
    "plt.show()"
   ]
  },
  {
   "cell_type": "code",
   "execution_count": 93,
   "id": "68210e8a",
   "metadata": {},
   "outputs": [
    {
     "name": "stderr",
     "output_type": "stream",
     "text": [
      "/tmp/ipykernel_2359/1297534270.py:18: FutureWarning:                            \n",
      "\n",
      "The previous implementation of stack is deprecated and will be removed in a future version of pandas. See the What's New notes for pandas 2.1.0 for details. Specify future_stack=True to adopt the new implementation and silence this warning.\n",
      "\n"
     ]
    }
   ],
   "source": [
    "# Query 3: Monthly Job Posting Trends in California\n",
    "query3 = spark.sql(\"\"\"\n",
    "    SELECT \n",
    "        YEAR(TO_DATE(j.posted, 'M/d/yyyy')) AS year,\n",
    "        MONTH(TO_DATE(j.posted, 'M/d/yyyy')) AS month,\n",
    "        COUNT(*) AS job_count\n",
    "    FROM job_postings j\n",
    "    JOIN locations l\n",
    "        ON j.location_id = l.location_id\n",
    "    WHERE l.state_name = 'California'\n",
    "        AND j.posted IS NOT NULL\n",
    "    GROUP BY year, month\n",
    "    ORDER BY year, month\n",
    "\"\"\")\n",
    "\n",
    "# 转 pandas 补齐月份\n",
    "query3_pd = query3.toPandas()\n",
    "query3_pd = query3_pd.set_index(['year','month']).unstack(fill_value=0).stack().reset_index()"
   ]
  },
  {
   "cell_type": "code",
   "execution_count": 95,
   "id": "f31010c9",
   "metadata": {},
   "outputs": [
    {
     "data": {
      "image/png": "[encoded data removed]",
      "text/plain": [
       "<Figure size 1000x600 with 1 Axes>"
      ]
     },
     "metadata": {},
     "output_type": "display_data"
    }
   ],
   "source": [
    "import seaborn as sns\n",
    "import matplotlib.pyplot as plt\n",
    "\n",
    "# 确保数据按时间排序\n",
    "query3_pd = query3_pd.sort_values(by=[\"year\", \"month\"])\n",
    "\n",
    "plt.figure(figsize=(10,6))\n",
    "sns.lineplot(\n",
    "    data=query3_pd, \n",
    "    x=\"month\", \n",
    "    y=\"job_count\", \n",
    "    hue=\"year\", \n",
    "    marker=\"o\"\n",
    ")\n",
    "\n",
    "plt.title(\"Monthly Job Posting Trends in California\", fontsize=16)\n",
    "plt.xlabel(\"Month\", fontsize=12)\n",
    "plt.ylabel(\"Number of Job Postings\", fontsize=12)\n",
    "\n",
    "# 设置 x 轴范围和间隔\n",
    "plt.xticks(ticks=[x/2 for x in range(10, 19)], labels=[x/2 for x in range(10, 19)])  \n",
    "# 上面生成 [5.0, 5.5, 6.0, ..., 9.0]\n",
    "\n",
    "plt.grid(True, linestyle=\"--\", alpha=0.6)\n",
    "plt.show()"
   ]
  },
  {
   "cell_type": "code",
   "execution_count": 105,
   "id": "c7b3ded8",
   "metadata": {},
   "outputs": [
    {
     "name": "stderr",
     "output_type": "stream",
     "text": [
      "                                                                                \r"
     ]
    },
    {
     "name": "stdout",
     "output_type": "stream",
     "text": [
      "+-------------+----------+---------+\n",
      "|metro_area   |avg_salary|job_count|\n",
      "+-------------+----------+---------+\n",
      "|San Francisco|137300.0  |960      |\n",
      "|Seattle      |129400.0  |692      |\n",
      "|Washington DC|127400.0  |1436     |\n",
      "|New York     |125400.0  |2018     |\n",
      "|Boston       |124200.0  |662      |\n",
      "|Austin       |122100.0  |547      |\n",
      "|Kansas City  |122100.0  |272      |\n",
      "|Dallas       |121100.0  |1128     |\n",
      "|Houston      |116400.0  |451      |\n",
      "|Nashville    |116300.0  |284      |\n",
      "|Los Angeles  |113800.0  |1257     |\n",
      "|Denver       |112900.0  |669      |\n",
      "+-------------+----------+---------+\n",
      "\n"
     ]
    }
   ],
   "source": [
    "#Query 4: Salary Comparisons Across Major US Cities\n",
    "\n",
    "# 注册表\n",
    "job_postings_df.createOrReplaceTempView(\"job_postings\")\n",
    "locations_df.createOrReplaceTempView(\"locations\")\n",
    "\n",
    "query4 = spark.sql(\"\"\"\n",
    "    SELECT \n",
    "        CASE \n",
    "            WHEN l.msa = '14460' THEN 'Boston'\n",
    "            WHEN l.msa = '47900' THEN 'Washington DC'\n",
    "            WHEN l.msa = '35620' THEN 'New York'\n",
    "            WHEN l.msa = '41860' THEN 'San Francisco'\n",
    "            WHEN l.msa = '42660' THEN 'Seattle'\n",
    "            WHEN l.msa = '31080' THEN 'Los Angeles'\n",
    "            WHEN l.msa = '19100' THEN 'Dallas'\n",
    "            WHEN l.msa = '26420' THEN 'Houston'\n",
    "            WHEN l.msa = '12420' THEN 'Austin'\n",
    "            WHEN l.msa = '34980' THEN 'Nashville'\n",
    "            WHEN l.msa = '28140' THEN 'Kansas City'\n",
    "            WHEN l.msa = '19740' THEN 'Denver'\n",
    "        END AS metro_area,\n",
    "        ROUND(AVG(j.salary), -2) AS avg_salary,   -- 四舍五入到百位\n",
    "        COUNT(*) AS job_count\n",
    "    FROM job_postings j\n",
    "    JOIN locations l \n",
    "        ON j.location_id = l.location_id\n",
    "    WHERE j.salary IS NOT NULL AND j.salary > 0\n",
    "      AND l.msa IN ('14460','47900','35620','41860','42660','31080',\n",
    "                    '19100','26420','12420','34980','28140','19740')\n",
    "    GROUP BY metro_area\n",
    "    ORDER BY avg_salary DESC\n",
    "\"\"\")\n",
    "\n",
    "query4.show(truncate=False)"
   ]
  },
  {
   "cell_type": "code",
   "execution_count": null,
   "id": "b797550a",
   "metadata": {
    "vscode": {
     "languageId": "ini"
    }
   },
   "outputs": [
    {
     "data": {
      "image/png": "[encoded data removed]",
      "text/plain": [
       "<Figure size 1200x600 with 1 Axes>"
      ]
     },
     "metadata": {},
     "output_type": "display_data"
    }
   ],
   "source": [
    "import seaborn as sns\n",
    "import matplotlib.pyplot as plt\n",
    "\n",
    "# 转 pandas\n",
    "query4_df = query4.toPandas()\n",
    "\n",
    "plt.figure(figsize=(10,6))\n",
    "sns.barplot(\n",
    "    data=df_pd,\n",
    "    y=\"metro_area\", \n",
    "    x=\"avg_salary\", \n",
    "    palette=\"Blues_r\"\n",
    ")\n",
    "\n",
    "plt.title(\"Average Salary Comparisons Across Major US Metro Areas\")\n",
    "plt.xlabel(\"Average Salary ($)\")\n",
    "plt.ylabel(\"Metro Area\")\n",
    "plt.show()\n"
   ]
  }
 ],
 "metadata": {
  "kernelspec": {
   "display_name": ".venv",
   "language": "python",
   "name": "python3"
  },
  "language_info": {
   "codemirror_mode": {
    "name": "ipython",
    "version": 3
   },
   "file_extension": ".py",
   "mimetype": "text/x-python",
   "name": "python",
   "nbconvert_exporter": "python",
   "pygments_lexer": "ipython3",
   "version": "3.10.12"
  }
 },
 "nbformat": 4,
 "nbformat_minor": 5
}
